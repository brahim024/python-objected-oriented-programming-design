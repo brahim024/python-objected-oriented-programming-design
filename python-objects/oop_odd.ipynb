{
 "cells": [
  {
   "cell_type": "code",
   "execution_count": 2,
   "metadata": {},
   "outputs": [],
   "source": [
    "#creating class \n"
   ]
  },
  {
   "cell_type": "code",
   "execution_count": 3,
   "metadata": {},
   "outputs": [
    {
     "name": "stdout",
     "output_type": "stream",
     "text": [
      "<__main__.Myclass object at 0x00000251ED148280>\n"
     ]
    }
   ],
   "source": [
    "class Myclass:\n",
    "    pass\n",
    "a=Myclass()\n",
    "print(a)"
   ]
  },
  {
   "cell_type": "code",
   "execution_count": 4,
   "metadata": {},
   "outputs": [],
   "source": [
    "#adding attributes"
   ]
  },
  {
   "cell_type": "code",
   "execution_count": 5,
   "metadata": {},
   "outputs": [
    {
     "name": "stdout",
     "output_type": "stream",
     "text": [
      "5 4\n",
      "3 7\n"
     ]
    }
   ],
   "source": [
    "class Point:\n",
    "    pass\n",
    "p1=Point()\n",
    "p2=Point()\n",
    "p1.x=5\n",
    "p1.y=4\n",
    "p2.x=3\n",
    "p2.y=7\n",
    "print(p1.x,p1.y)\n",
    "print(p2.x,p2.y)"
   ]
  },
  {
   "cell_type": "code",
   "execution_count": 6,
   "metadata": {},
   "outputs": [],
   "source": [
    "'''This code creates an empty Point class\n",
    "with no data or behaviors'''"
   ]
  },
  {
   "cell_type": "code",
   "execution_count": 7,
   "metadata": {},
   "outputs": [],
   "source": [
    "# making do somthing"
   ]
  },
  {
   "cell_type": "code",
   "execution_count": 11,
   "metadata": {},
   "outputs": [
    {
     "name": "stdout",
     "output_type": "stream",
     "text": [
      "0 0\n"
     ]
    }
   ],
   "source": [
    "class Point:\n",
    "    def reset(self):\n",
    "        self.x=0\n",
    "        self.y=0\n",
    "p=Point()\n",
    "p.reset()\n",
    "print(p.x,p.y)"
   ]
  },
  {
   "cell_type": "code",
   "execution_count": 12,
   "metadata": {},
   "outputs": [],
   "source": [
    "#or"
   ]
  },
  {
   "cell_type": "code",
   "execution_count": 13,
   "metadata": {},
   "outputs": [
    {
     "name": "stdout",
     "output_type": "stream",
     "text": [
      "0 0\n"
     ]
    }
   ],
   "source": [
    "Point.reset(p)\n",
    "print(p.x,p.y)"
   ]
  },
  {
   "cell_type": "code",
   "execution_count": 16,
   "metadata": {},
   "outputs": [
    {
     "ename": "TypeError",
     "evalue": "reset() takes 0 positional arguments but 1 was given",
     "output_type": "error",
     "traceback": [
      "\u001b[1;31m---------------------------------------------------------------------------\u001b[0m",
      "\u001b[1;31mTypeError\u001b[0m                                 Traceback (most recent call last)",
      "\u001b[1;32m<ipython-input-16-5b8880c9545f>\u001b[0m in \u001b[0;36m<module>\u001b[1;34m\u001b[0m\n\u001b[0;32m      4\u001b[0m \u001b[1;33m\u001b[0m\u001b[0m\n\u001b[0;32m      5\u001b[0m \u001b[0mp\u001b[0m\u001b[1;33m=\u001b[0m\u001b[0mPoint\u001b[0m\u001b[1;33m(\u001b[0m\u001b[1;33m)\u001b[0m\u001b[1;33m\u001b[0m\u001b[1;33m\u001b[0m\u001b[0m\n\u001b[1;32m----> 6\u001b[1;33m \u001b[0mp\u001b[0m\u001b[1;33m.\u001b[0m\u001b[0mreset\u001b[0m\u001b[1;33m(\u001b[0m\u001b[1;33m)\u001b[0m\u001b[1;33m\u001b[0m\u001b[1;33m\u001b[0m\u001b[0m\n\u001b[0m",
      "\u001b[1;31mTypeError\u001b[0m: reset() takes 0 positional arguments but 1 was given"
     ]
    }
   ],
   "source": [
    "class Point:\n",
    "    def reset():\n",
    "        pass\n",
    "\n",
    "p=Point()\n",
    "p.reset()"
   ]
  },
  {
   "cell_type": "code",
   "execution_count": null,
   "metadata": {},
   "outputs": [],
   "source": [
    "'''the error message in not as clear as it could be (\"You silly fool, you forgot the self\n",
    "argument\" would be more informative\")'''"
   ]
  },
  {
   "cell_type": "code",
   "execution_count": 18,
   "metadata": {},
   "outputs": [],
   "source": [
    "#More argument"
   ]
  },
  {
   "cell_type": "code",
   "execution_count": 23,
   "metadata": {},
   "outputs": [
    {
     "name": "stdout",
     "output_type": "stream",
     "text": [
      "5.0\n",
      "4.47213595499958\n",
      "0.0\n"
     ]
    }
   ],
   "source": [
    "import math\n",
    "class Point:\n",
    "    def move(self,x,y):\n",
    "        self.x=x\n",
    "        self.y=y\n",
    "    def reset(self):\n",
    "        self.move(0,0)\n",
    "    def calculate_destance(self,other_point):\n",
    "        return math.sqrt(\n",
    "        (self.x - other_point.x)**2+\n",
    "        (self.y - other_point.y)**2\n",
    "        )\n",
    "#how to use this\n",
    "point1=Point()\n",
    "point2=Point()\n",
    "point1.reset()\n",
    "point2.move(5,0)\n",
    "print(point2.calculate_destance(point1))\n",
    "assert (point2.calculate_destance(point1) ==\n",
    "        point1.calculate_destance(point2))\n",
    "point1.move(3,4)\n",
    "print(point1.calculate_destance(point2))\n",
    "print(point1.calculate_destance(point1))"
   ]
  },
  {
   "cell_type": "code",
   "execution_count": null,
   "metadata": {},
   "outputs": [],
   "source": []
  }
 ],
 "metadata": {
  "kernelspec": {
   "display_name": "Python 3",
   "language": "python",
   "name": "python3"
  },
  "language_info": {
   "codemirror_mode": {
    "name": "ipython",
    "version": 3
   },
   "file_extension": ".py",
   "mimetype": "text/x-python",
   "name": "python",
   "nbconvert_exporter": "python",
   "pygments_lexer": "ipython3",
   "version": "3.8.3"
  }
 },
 "nbformat": 4,
 "nbformat_minor": 4
}
